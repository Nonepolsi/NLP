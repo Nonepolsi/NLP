{
  "nbformat": 4,
  "nbformat_minor": 0,
  "metadata": {
    "colab": {
      "name": "Lab2_GordeevMV.ipynb",
      "provenance": [],
      "collapsed_sections": [],
      "toc_visible": true
    },
    "kernelspec": {
      "name": "python3",
      "display_name": "Python 3"
    }
  },
  "cells": [
    {
      "cell_type": "markdown",
      "metadata": {
        "id": "dOvYx2h5cWoa"
      },
      "source": [
        "# Лабораторная №2, Гордеев Максим"
      ]
    },
    {
      "cell_type": "markdown",
      "metadata": {
        "id": "4JzGoSuZMyEC"
      },
      "source": [
        "Немного про структуру лабораторной: есть файлы тестов, есть модуль, который делает всю работу, а здесь результаты тестов и мои комментарии по работе, фейлу и ошибке."
      ]
    },
    {
      "cell_type": "markdown",
      "metadata": {
        "id": "5fUdie8aNNaT"
      },
      "source": [
        "Сначала ставлю \"Наташу\", импортирую все, что понадобится"
      ]
    },
    {
      "cell_type": "code",
      "metadata": {
        "id": "C12TWnmdwytQ",
        "colab": {
          "base_uri": "https://localhost:8080/"
        },
        "outputId": "621afcc6-da3b-49a2-a170-2e215006ed23"
      },
      "source": [
        "pip install natasha"
      ],
      "execution_count": 1,
      "outputs": [
        {
          "output_type": "stream",
          "text": [
            "Collecting natasha\n",
            "\u001b[?25l  Downloading https://files.pythonhosted.org/packages/51/8e/ab0745100be276750fb6b8858c6180a1756696572295a74eb5aea77f3bbd/natasha-1.4.0-py3-none-any.whl (34.4MB)\n",
            "\u001b[K     |████████████████████████████████| 34.4MB 69.9MB/s \n",
            "\u001b[?25hCollecting razdel>=0.5.0\n",
            "  Downloading https://files.pythonhosted.org/packages/15/2c/664223a3924aa6e70479f7d37220b3a658765b9cfe760b4af7ffdc50d38f/razdel-0.5.0-py3-none-any.whl\n",
            "Collecting yargy>=0.14.0\n",
            "\u001b[?25l  Downloading https://files.pythonhosted.org/packages/d3/46/bc1a17200a55f4b0608f39ac64f1840fd4a52f9eeea462d9afecbf71246b/yargy-0.15.0-py3-none-any.whl (41kB)\n",
            "\u001b[K     |████████████████████████████████| 51kB 6.3MB/s \n",
            "\u001b[?25hCollecting ipymarkup>=0.8.0\n",
            "  Downloading https://files.pythonhosted.org/packages/bf/9b/bf54c98d50735a4a7c84c71e92c5361730c878ebfe903d2c2d196ef66055/ipymarkup-0.9.0-py3-none-any.whl\n",
            "Collecting slovnet>=0.3.0\n",
            "\u001b[?25l  Downloading https://files.pythonhosted.org/packages/a9/3b/f1ef495be8990004959dd0510c95f688d1b07529f6a862bc56a405770b26/slovnet-0.5.0-py3-none-any.whl (49kB)\n",
            "\u001b[K     |████████████████████████████████| 51kB 6.5MB/s \n",
            "\u001b[?25hCollecting pymorphy2\n",
            "\u001b[?25l  Downloading https://files.pythonhosted.org/packages/07/57/b2ff2fae3376d4f3c697b9886b64a54b476e1a332c67eee9f88e7f1ae8c9/pymorphy2-0.9.1-py3-none-any.whl (55kB)\n",
            "\u001b[K     |████████████████████████████████| 61kB 7.7MB/s \n",
            "\u001b[?25hCollecting navec>=0.9.0\n",
            "  Downloading https://files.pythonhosted.org/packages/bc/c1/771ec5565f0ce24874d7fd325b429f9caa80517a40d2e4ce5705120591f3/navec-0.10.0-py3-none-any.whl\n",
            "Collecting intervaltree>=3\n",
            "  Downloading https://files.pythonhosted.org/packages/50/fb/396d568039d21344639db96d940d40eb62befe704ef849b27949ded5c3bb/intervaltree-3.1.0.tar.gz\n",
            "Requirement already satisfied: numpy in /usr/local/lib/python3.6/dist-packages (from slovnet>=0.3.0->natasha) (1.19.4)\n",
            "Requirement already satisfied: docopt>=0.6 in /usr/local/lib/python3.6/dist-packages (from pymorphy2->natasha) (0.6.2)\n",
            "Collecting pymorphy2-dicts-ru<3.0,>=2.4\n",
            "\u001b[?25l  Downloading https://files.pythonhosted.org/packages/3a/79/bea0021eeb7eeefde22ef9e96badf174068a2dd20264b9a378f2be1cdd9e/pymorphy2_dicts_ru-2.4.417127.4579844-py2.py3-none-any.whl (8.2MB)\n",
            "\u001b[K     |████████████████████████████████| 8.2MB 52.0MB/s \n",
            "\u001b[?25hCollecting dawg-python>=0.7.1\n",
            "  Downloading https://files.pythonhosted.org/packages/6a/84/ff1ce2071d4c650ec85745766c0047ccc3b5036f1d03559fd46bb38b5eeb/DAWG_Python-0.7.2-py2.py3-none-any.whl\n",
            "Requirement already satisfied: sortedcontainers<3.0,>=2.0 in /usr/local/lib/python3.6/dist-packages (from intervaltree>=3->ipymarkup>=0.8.0->natasha) (2.3.0)\n",
            "Building wheels for collected packages: intervaltree\n",
            "  Building wheel for intervaltree (setup.py) ... \u001b[?25l\u001b[?25hdone\n",
            "  Created wheel for intervaltree: filename=intervaltree-3.1.0-py2.py3-none-any.whl size=26102 sha256=47f7bb76890f6e888d6c427794481750372624fffb00a48aa3164742f4cd48e6\n",
            "  Stored in directory: /root/.cache/pip/wheels/f3/f2/66/e9c30d3e9499e65ea2fa0d07c002e64de63bd0adaa49c445bf\n",
            "Successfully built intervaltree\n",
            "Installing collected packages: razdel, pymorphy2-dicts-ru, dawg-python, pymorphy2, yargy, intervaltree, ipymarkup, navec, slovnet, natasha\n",
            "  Found existing installation: intervaltree 2.1.0\n",
            "    Uninstalling intervaltree-2.1.0:\n",
            "      Successfully uninstalled intervaltree-2.1.0\n",
            "Successfully installed dawg-python-0.7.2 intervaltree-3.1.0 ipymarkup-0.9.0 natasha-1.4.0 navec-0.10.0 pymorphy2-0.9.1 pymorphy2-dicts-ru-2.4.417127.4579844 razdel-0.5.0 slovnet-0.5.0 yargy-0.15.0\n"
          ],
          "name": "stdout"
        }
      ]
    },
    {
      "cell_type": "markdown",
      "metadata": {
        "id": "qdMM2Z6mNndA"
      },
      "source": [
        "Юниттест"
      ]
    },
    {
      "cell_type": "code",
      "metadata": {
        "id": "I_WfjCREL1-w"
      },
      "source": [
        "import unittest\r\n",
        "\r\n",
        "test_loader = unittest.TestLoader()"
      ],
      "execution_count": 2,
      "outputs": []
    },
    {
      "cell_type": "markdown",
      "metadata": {
        "id": "N8bKFvcJNhbB"
      },
      "source": [
        "Файлы с тестами"
      ]
    },
    {
      "cell_type": "code",
      "metadata": {
        "id": "IGvEVH0mV4cm"
      },
      "source": [
        "import test_total_address\n",
        "import test_appartment\n",
        "import test_building\n",
        "import test_cities\n",
        "import test_spb\n",
        "import test_streets\n",
        "import test_persons_mod"
      ],
      "execution_count": 3,
      "outputs": []
    },
    {
      "cell_type": "markdown",
      "metadata": {
        "id": "a2Dvj7NvPQIE"
      },
      "source": [
        "Первым идет тест, который, наверное, добавил больше всего костыльности и хардкод-ности в парсер. В основном критикалы (все 2-е и 3-й), береговая и антонова овсиенко тоже. Не сказать, что решения сложные, просто хардкод. Вообще, парсер получился очень неуниверсальный. Вернее, для реальных задач он точно не подойдет. Очень много допущений сделано. Но зато все тесты проходят гладко."
      ]
    },
    {
      "cell_type": "code",
      "metadata": {
        "colab": {
          "base_uri": "https://localhost:8080/"
        },
        "id": "1p9AoyGndIQB",
        "outputId": "89ab8b4a-9b23-4a7d-c103-a0272626c42e"
      },
      "source": [
        "test_suite = test_loader.loadTestsFromModule(test_total_address)\n",
        "unittest.TextTestRunner(verbosity=2).run(test_suite)"
      ],
      "execution_count": 4,
      "outputs": [
        {
          "output_type": "stream",
          "text": [
            "test_30_let_victory (test_total_address.TestStreet) ... ok\n",
            "test_behtereva (test_total_address.TestStreet) ... ok\n",
            "test_beregovaya (test_total_address.TestStreet) ... ok\n",
            "test_critical (test_total_address.TestStreet) ... ok\n",
            "test_critical0 (test_total_address.TestStreet) ... ok\n",
            "test_critical1 (test_total_address.TestStreet) ... ok\n",
            "test_critical2 (test_total_address.TestStreet) ... ok\n",
            "test_critical2_3 (test_total_address.TestStreet) ... ok\n",
            "test_critical2_4 (test_total_address.TestStreet) ... ok\n",
            "test_critical3 (test_total_address.TestStreet) ... ok\n",
            "test_fouth (test_total_address.TestStreet) ... ok\n",
            "test_gai (test_total_address.TestStreet) ... ok\n",
            "test_index (test_total_address.TestStreet) ... ok\n",
            "test_july_Street (test_total_address.TestStreet) ... ok\n",
            "test_kuskovaya_corpus (test_total_address.TestStreet) ... ok\n",
            "test_minina (test_total_address.TestStreet) ... ok\n",
            "test_moskovskaya (test_total_address.TestStreet) ... ok\n",
            "test_one (test_total_address.TestStreet) ... ok\n",
            "test_park (test_total_address.TestStreet) ... ok\n",
            "test_salmanova (test_total_address.TestStreet) ... ok\n",
            "test_second (test_total_address.TestStreet) ... ok\n",
            "test_semen_bilecky (test_total_address.TestStreet) ... ok\n",
            "test_shosse (test_total_address.TestStreet) ... ok\n",
            "test_third (test_total_address.TestStreet) ... ok\n",
            "test_third_post (test_total_address.TestStreet) ... ok\n",
            "test_tract (test_total_address.TestStreet) ... ok\n",
            "test_val (test_total_address.TestStreet) ... ok\n",
            "test_vidnoe (test_total_address.TestStreet) ... ok\n",
            "test_yuogorskaya (test_total_address.TestStreet) ... ok\n",
            "test_zelinskogo (test_total_address.TestStreet) ... ok\n",
            "\n",
            "----------------------------------------------------------------------\n",
            "Ran 30 tests in 6.128s\n",
            "\n",
            "OK\n"
          ],
          "name": "stderr"
        },
        {
          "output_type": "execute_result",
          "data": {
            "text/plain": [
              "<unittest.runner.TextTestResult run=30 errors=0 failures=0>"
            ]
          },
          "metadata": {
            "tags": []
          },
          "execution_count": 4
        }
      ]
    },
    {
      "cell_type": "markdown",
      "metadata": {
        "id": "1HbrsXJwQ7pk"
      },
      "source": [
        "Тест, который с первой же попытки был успешно пройден"
      ]
    },
    {
      "cell_type": "code",
      "metadata": {
        "colab": {
          "base_uri": "https://localhost:8080/"
        },
        "id": "i0pQJDPdLPXX",
        "outputId": "d8ca0b80-d774-4be9-df62-739db1d2cace"
      },
      "source": [
        "test_suite = test_loader.loadTestsFromModule(test_appartment)\r\n",
        "unittest.TextTestRunner(verbosity=2).run(test_suite)"
      ],
      "execution_count": 5,
      "outputs": [
        {
          "output_type": "stream",
          "text": [
            "test_1 (test_appartment.TestAppartment) ... ok\n",
            "test_2 (test_appartment.TestAppartment) ... ok\n",
            "test_3 (test_appartment.TestAppartment) ... ok\n",
            "test_4 (test_appartment.TestAppartment) ... ok\n",
            "test_5 (test_appartment.TestAppartment) ... ok\n",
            "test_6 (test_appartment.TestAppartment) ... ok\n",
            "test_7 (test_appartment.TestAppartment) ... ok\n",
            "test_8 (test_appartment.TestAppartment) ... ok\n",
            "\n",
            "----------------------------------------------------------------------\n",
            "Ran 8 tests in 1.587s\n",
            "\n",
            "OK\n"
          ],
          "name": "stderr"
        },
        {
          "output_type": "execute_result",
          "data": {
            "text/plain": [
              "<unittest.runner.TextTestResult run=8 errors=0 failures=0>"
            ]
          },
          "metadata": {
            "tags": []
          },
          "execution_count": 5
        }
      ]
    },
    {
      "cell_type": "markdown",
      "metadata": {
        "id": "5PnSqERORUvk"
      },
      "source": [
        "Немножко помучался с этим тестом, но быстро все поправил"
      ]
    },
    {
      "cell_type": "code",
      "metadata": {
        "colab": {
          "base_uri": "https://localhost:8080/"
        },
        "id": "tnN1mNuzLUyH",
        "outputId": "136dd50e-888c-4eb8-de71-656a96d32767"
      },
      "source": [
        "test_suite = test_loader.loadTestsFromModule(test_building)\r\n",
        "unittest.TextTestRunner(verbosity=2).run(test_suite)"
      ],
      "execution_count": 6,
      "outputs": [
        {
          "output_type": "stream",
          "text": [
            "test_1 (test_building.TestHome) ... ok\n",
            "test_10 (test_building.TestHome) ... ok\n",
            "test_11 (test_building.TestHome) ... ok\n",
            "test_2 (test_building.TestHome) ... ok\n",
            "test_3 (test_building.TestHome) ... ok\n",
            "test_4 (test_building.TestHome) ... ok\n",
            "test_5 (test_building.TestHome) ... ok\n",
            "test_6 (test_building.TestHome) ... ok\n",
            "test_7 (test_building.TestHome) ... ok\n",
            "test_8 (test_building.TestHome) ... ok\n",
            "test_9 (test_building.TestHome) ... ok\n",
            "\n",
            "----------------------------------------------------------------------\n",
            "Ran 11 tests in 2.141s\n",
            "\n",
            "OK\n"
          ],
          "name": "stderr"
        },
        {
          "output_type": "execute_result",
          "data": {
            "text/plain": [
              "<unittest.runner.TextTestResult run=11 errors=0 failures=0>"
            ]
          },
          "metadata": {
            "tags": []
          },
          "execution_count": 6
        }
      ]
    },
    {
      "cell_type": "markdown",
      "metadata": {
        "id": "AulSEYt5RdVM"
      },
      "source": [
        "Города оказались довольно простыми"
      ]
    },
    {
      "cell_type": "code",
      "metadata": {
        "colab": {
          "base_uri": "https://localhost:8080/"
        },
        "id": "FrzpGLgzLY5y",
        "outputId": "2c4b7009-6ce3-45a8-db92-9eef0eaac74c"
      },
      "source": [
        "test_suite = test_loader.loadTestsFromModule(test_cities)\r\n",
        "unittest.TextTestRunner(verbosity=2).run(test_suite)"
      ],
      "execution_count": 7,
      "outputs": [
        {
          "output_type": "stream",
          "text": [
            "test_1 (test_cities.TestCity) ... ok\n",
            "test_10 (test_cities.TestCity) ... ok\n",
            "test_11 (test_cities.TestCity) ... ok\n",
            "test_12 (test_cities.TestCity) ... ok\n",
            "test_13 (test_cities.TestCity) ... ok\n",
            "test_14 (test_cities.TestCity) ... ok\n",
            "test_15 (test_cities.TestCity) ... ok\n",
            "test_16 (test_cities.TestCity) ... ok\n",
            "test_2 (test_cities.TestCity) ... ok\n",
            "test_3 (test_cities.TestCity) ... ok\n",
            "test_4 (test_cities.TestCity) ... ok\n",
            "test_5 (test_cities.TestCity) ... ok\n",
            "test_6 (test_cities.TestCity) ... ok\n",
            "test_7 (test_cities.TestCity) ... ok\n",
            "test_8 (test_cities.TestCity) ... ok\n",
            "test_9 (test_cities.TestCity) ... ok\n",
            "\n",
            "----------------------------------------------------------------------\n",
            "Ran 16 tests in 3.206s\n",
            "\n",
            "OK\n"
          ],
          "name": "stderr"
        },
        {
          "output_type": "execute_result",
          "data": {
            "text/plain": [
              "<unittest.runner.TextTestResult run=16 errors=0 failures=0>"
            ]
          },
          "metadata": {
            "tags": []
          },
          "execution_count": 7
        }
      ]
    },
    {
      "cell_type": "markdown",
      "metadata": {
        "id": "RwfAJHiDRmVM"
      },
      "source": [
        "А вот в СПб я встретился с загадочными явлениями парсера. Может я что-то очевидное упускаю, но в одном тесте с \";\" все было четко, а вот во втором был полнейший затык. В итоге просто самостоятельно добавил возможность хэндлить \";\"."
      ]
    },
    {
      "cell_type": "code",
      "metadata": {
        "colab": {
          "base_uri": "https://localhost:8080/"
        },
        "id": "RjlKqrTyLZrB",
        "outputId": "a4785924-c020-4d50-b67a-979d7ab5ffd3"
      },
      "source": [
        "test_suite = test_loader.loadTestsFromModule(test_spb)\r\n",
        "unittest.TextTestRunner(verbosity=2).run(test_suite)"
      ],
      "execution_count": 8,
      "outputs": [
        {
          "output_type": "stream",
          "text": [
            "test_full_gagarina (test_spb.TestStreet) ... ok\n",
            "test_shkolnaya (test_spb.TestStreet) ... ok\n",
            "test_short_gagarina (test_spb.TestStreet) ... ok\n",
            "test_untolovsky (test_spb.TestStreet) ... ok\n",
            "test_untolovsky_str (test_spb.TestStreet) ... ok\n",
            "\n",
            "----------------------------------------------------------------------\n",
            "Ran 5 tests in 1.040s\n",
            "\n",
            "OK\n"
          ],
          "name": "stderr"
        },
        {
          "output_type": "execute_result",
          "data": {
            "text/plain": [
              "<unittest.runner.TextTestResult run=5 errors=0 failures=0>"
            ]
          },
          "metadata": {
            "tags": []
          },
          "execution_count": 8
        }
      ]
    },
    {
      "cell_type": "markdown",
      "metadata": {
        "id": "rG_LeJjtSOe-"
      },
      "source": [
        "Тест с ошибкой и фейлом! Фейл берет свое начало в test_total_address, где \"зеленые аллеи\" нужно распознать как имя: \"зеленые аллеи\", тип: \"None\". Здесь же уже только \"зеленые\" — имя, а \"аллеи\" — тип улицы. Что считать истиной?\r\n",
        "Ошибка — это \"мое 3 парковая\". Конечно, можно \"закостылить\" этот тест, достаточно добавить одно просто правило (PREP, INT, STREET_PROBABLY_CASELESS). Но это совсем некрасиво, даже не эрзац-вайлдкарды для критикалов. Если нужно, чтобы просто работало, то добавлю это правило и залью модуль еще раз."
      ]
    },
    {
      "cell_type": "code",
      "metadata": {
        "colab": {
          "base_uri": "https://localhost:8080/"
        },
        "id": "rS4KmfwsLaQp",
        "outputId": "d914a927-26dd-44f7-8fe2-dbc0026c3970"
      },
      "source": [
        "test_suite = test_loader.loadTestsFromModule(test_streets)\r\n",
        "unittest.TextTestRunner(verbosity=2).run(test_suite)"
      ],
      "execution_count": 9,
      "outputs": [
        {
          "output_type": "stream",
          "text": [
            "test_1 (test_streets.TestStreet) ... ok\n",
            "test_10 (test_streets.TestStreet) ... ok\n",
            "test_11 (test_streets.TestStreet) ... ok\n",
            "test_12 (test_streets.TestStreet) ... ok\n",
            "test_13 (test_streets.TestStreet) ... ok\n",
            "test_14 (test_streets.TestStreet) ... ok\n",
            "test_15 (test_streets.TestStreet) ... ok\n",
            "test_16 (test_streets.TestStreet) ... ok\n",
            "test_17 (test_streets.TestStreet) ... ok\n",
            "test_18 (test_streets.TestStreet) ... ok\n",
            "test_19 (test_streets.TestStreet) ... ok\n",
            "test_2 (test_streets.TestStreet) ... ok\n",
            "test_20 (test_streets.TestStreet) ... ERROR\n",
            "test_21 (test_streets.TestStreet) ... ok\n",
            "test_22 (test_streets.TestStreet) ... ok\n",
            "test_23 (test_streets.TestStreet) ... ok\n",
            "test_24 (test_streets.TestStreet) ... FAIL\n",
            "test_25 (test_streets.TestStreet) ... ok\n",
            "test_26 (test_streets.TestStreet) ... ok\n",
            "test_27 (test_streets.TestStreet) ... ok\n",
            "test_28 (test_streets.TestStreet) ... ok\n",
            "test_29 (test_streets.TestStreet) ... ok\n",
            "test_3 (test_streets.TestStreet) ... ok\n",
            "test_30 (test_streets.TestStreet) ... ok\n",
            "test_31 (test_streets.TestStreet) ... ok\n",
            "test_32 (test_streets.TestStreet) ... ok\n",
            "test_4 (test_streets.TestStreet) ... ok\n",
            "test_5 (test_streets.TestStreet) ... ok\n",
            "test_6 (test_streets.TestStreet) ... ok\n",
            "test_7 (test_streets.TestStreet) ... ok\n",
            "test_8 (test_streets.TestStreet) ... ok\n",
            "test_9 (test_streets.TestStreet) ... ok\n",
            "\n",
            "======================================================================\n",
            "ERROR: test_20 (test_streets.TestStreet)\n",
            "----------------------------------------------------------------------\n",
            "Traceback (most recent call last):\n",
            "  File \"/content/test_streets.py\", line 124, in test_20\n",
            "    res = res[0]\n",
            "IndexError: list index out of range\n",
            "\n",
            "======================================================================\n",
            "FAIL: test_24 (test_streets.TestStreet)\n",
            "----------------------------------------------------------------------\n",
            "Traceback (most recent call last):\n",
            "  File \"/content/test_streets.py\", line 149, in test_24\n",
            "    self.assertEqual(('зеленые', 'аллеи'), (res.Street.name, res.Street.street_type))\n",
            "AssertionError: Tuples differ: ('зеленые', 'аллеи') != ('зеленые аллеи', None)\n",
            "\n",
            "First differing element 0:\n",
            "'зеленые'\n",
            "'зеленые аллеи'\n",
            "\n",
            "- ('зеленые', 'аллеи')\n",
            "+ ('зеленые аллеи', None)\n",
            "\n",
            "----------------------------------------------------------------------\n",
            "Ran 32 tests in 6.374s\n",
            "\n",
            "FAILED (failures=1, errors=1)\n"
          ],
          "name": "stderr"
        },
        {
          "output_type": "execute_result",
          "data": {
            "text/plain": [
              "<unittest.runner.TextTestResult run=32 errors=1 failures=1>"
            ]
          },
          "metadata": {
            "tags": []
          },
          "execution_count": 9
        }
      ]
    },
    {
      "cell_type": "markdown",
      "metadata": {
        "id": "K1qiYgTlUwkD"
      },
      "source": [
        "Тут получилось довольно красивое решение, но потом пайморфи решил, что здесь не \"ПО фамилии\", а \"Эдгар Аллан ПО\" (хотя там вероятность попадания в класс \"фамилия\" мизерная), и просто выдал \"по\" в фамилию. Исправил."
      ]
    },
    {
      "cell_type": "code",
      "metadata": {
        "colab": {
          "base_uri": "https://localhost:8080/"
        },
        "id": "7YjkMlBzLa0S",
        "outputId": "d2176316-a580-410c-afae-3c96350a5fc2"
      },
      "source": [
        "test_suite = test_loader.loadTestsFromModule(test_persons_mod)\r\n",
        "unittest.TextTestRunner(verbosity=2).run(test_suite)"
      ],
      "execution_count": 10,
      "outputs": [
        {
          "output_type": "stream",
          "text": [
            "test_1 (test_persons_mod.TestPersons) ... ok\n",
            "test_10 (test_persons_mod.TestPersons) ... ok\n",
            "test_11 (test_persons_mod.TestPersons) ... ok\n",
            "test_2 (test_persons_mod.TestPersons) ... ok\n",
            "test_3 (test_persons_mod.TestPersons) ... ok\n",
            "test_4 (test_persons_mod.TestPersons) ... ok\n",
            "test_5 (test_persons_mod.TestPersons) ... ok\n",
            "test_6 (test_persons_mod.TestPersons) ... ok\n",
            "test_7 (test_persons_mod.TestPersons) ... ok\n",
            "test_8 (test_persons_mod.TestPersons) ... ok\n",
            "test_9 (test_persons_mod.TestPersons) ... ok\n",
            "\n",
            "----------------------------------------------------------------------\n",
            "Ran 11 tests in 1.783s\n",
            "\n",
            "OK\n"
          ],
          "name": "stderr"
        },
        {
          "output_type": "execute_result",
          "data": {
            "text/plain": [
              "<unittest.runner.TextTestResult run=11 errors=0 failures=0>"
            ]
          },
          "metadata": {
            "tags": []
          },
          "execution_count": 10
        }
      ]
    },
    {
      "cell_type": "markdown",
      "metadata": {
        "id": "MlvADeCnWmsU"
      },
      "source": [
        "В файлах есть еще мои комментарии, где объясняю, что и почему делал. Вообще, лабораторная была довольно интересная, особенно игры со взаимодействием правил друг с другом, например продумывание последовательности правил в очередном \"or_\". Благодаря лабораторной узнал о существовании библиотеки Natasha и научился делать свои правила для Yargy-парсера."
      ]
    }
  ]
}